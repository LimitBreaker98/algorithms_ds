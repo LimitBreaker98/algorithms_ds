{
 "cells": [
  {
   "cell_type": "markdown",
   "id": "c6fb3803-1dff-440c-b861-b48014e1a8fb",
   "metadata": {},
   "source": [
    "archivo de prueba"
   ]
  },
  {
   "cell_type": "code",
   "execution_count": 2,
   "id": "bea497b7-7861-4392-ab93-4abda14fe3c4",
   "metadata": {},
   "outputs": [],
   "source": [
    "def test_function(x, y):\n",
    "    return x + y"
   ]
  },
  {
   "cell_type": "code",
   "execution_count": null,
   "id": "ac100218-1e86-4f12-87c9-9274f71e873c",
   "metadata": {},
   "outputs": [],
   "source": []
  }
 ],
 "metadata": {
  "kernelspec": {
   "display_name": "Python 3",
   "language": "python",
   "name": "python3"
  },
  "language_info": {
   "codemirror_mode": {
    "name": "ipython",
    "version": 3
   },
   "file_extension": ".py",
   "mimetype": "text/x-python",
   "name": "python",
   "nbconvert_exporter": "python",
   "pygments_lexer": "ipython3",
   "version": "3.8.8"
  }
 },
 "nbformat": 4,
 "nbformat_minor": 5
}

{
 "cells": [
  {
   "cell_type": "markdown",
   "id": "ab02807f-41ee-4c28-9ab3-05f48756ff32",
   "metadata": {},
   "source": [
    "# Searching Strategies\n",
    "## Implementations of algorithms that look for values inside data structures"
   ]
  },
  {
   "cell_type": "markdown",
   "id": "baa7d6db-8f23-4555-bc91-4c5fe5250552",
   "metadata": {},
   "source": [
    "### Binary Search"
   ]
  },
  {
   "cell_type": "markdown",
   "id": "77ccd7cb-ba0a-48b8-a1c2-a01e934a866d",
   "metadata": {},
   "source": [
    "#### An algorithm to search in a set of ordered values in O(log n), can also be used as an approximation method for function values (check CP3 book)\n"
   ]
  },
  {
   "cell_type": "code",
   "execution_count": 3,
   "id": "6adf480c-0834-4705-952d-690b0501f526",
   "metadata": {
    "tags": []
   },
   "outputs": [],
   "source": [
    "## Imports\n",
    "from typing import List"
   ]
  },
  {
   "cell_type": "markdown",
   "id": "457658b6-fa3e-4bec-b732-095663a562a8",
   "metadata": {
    "tags": []
   },
   "source": [
    "#### Exact Binary Search\n",
    "\n",
    "Binary search variant to look exactly for an integer in a sorted container  \n",
    "Returns pos of element inside list nums, or -1 if not found  \n",
    "Pre: Container is sorted ascendingly"
   ]
  },
  {
   "cell_type": "code",
   "execution_count": 4,
   "id": "0493af08-ccd8-466a-b65b-cb5812d68245",
   "metadata": {
    "tags": []
   },
   "outputs": [],
   "source": [
    "def exact_bin_search(nums: List[int], target):\n",
    "    l, r = 0, len(nums)-1\n",
    "    while l <= r:\n",
    "        mid = (l + r) // 2\n",
    "        if nums[mid] > target:\n",
    "            r = mid - 1              ## prune right end of search space including mid element as it does not work\n",
    "        elif nums[mid] < target: \n",
    "            l = mid + 1              ## prune left end of search space including mid element as it does not work\n",
    "        else:\n",
    "            return mid\n",
    "    return -1"
   ]
  },
  {
   "cell_type": "code",
   "execution_count": 5,
   "id": "ee00f953-12dd-447f-83d8-6ca2e9c8d452",
   "metadata": {
    "tags": []
   },
   "outputs": [],
   "source": [
    "## Test cases:\n",
    "nums = [1, 3, 9, 29, 34, 55]\n",
    "\n",
    "assert(exact_bin_search(nums, 1) == 0)\n",
    "assert(exact_bin_search(nums, 30) == -1)\n",
    "assert(exact_bin_search(nums, 57) == -1)\n",
    "assert(exact_bin_search(nums, -33) == -1)\n",
    "assert(exact_bin_search(nums, 9) == 2)\n",
    "assert(exact_bin_search(nums, 34) == 4)\n",
    "\n",
    "nums = [3,4,5,7]\n",
    "assert(exact_bin_search(nums, 8) == -1)"
   ]
  },
  {
   "cell_type": "markdown",
   "id": "6c5f96c8-681e-4ad7-b37b-1e41663a7c86",
   "metadata": {},
   "source": [
    "#### Upper Bound Binary Search\n",
    "Returns the position of the immediate int greater than target  \n",
    "Returns pos of element inside list nums, or -1 if no int satisfies the property  \n",
    "Pre: v is sorted ascendingly"
   ]
  },
  {
   "cell_type": "code",
   "execution_count": 6,
   "id": "39638ec9-a91e-4d27-b327-32a8a44d17fd",
   "metadata": {
    "tags": []
   },
   "outputs": [],
   "source": [
    "def upper_bound(nums: List[int], target):\n",
    "    l, r = 0, len(nums) - 1\n",
    "    pos = -1\n",
    "    while l <= r:\n",
    "        mid = (l + r) // 2\n",
    "        if nums[mid] > target:\n",
    "            r = mid - 1\n",
    "            pos = mid ## update possible answer\n",
    "        else: \n",
    "            l = mid + 1               \n",
    "    return pos"
   ]
  },
  {
   "cell_type": "code",
   "execution_count": 13,
   "id": "5378ce58-5d1e-4340-8a3a-a91d76dcdc24",
   "metadata": {
    "tags": []
   },
   "outputs": [],
   "source": [
    "## Test cases:\n",
    "nums = [1, 3, 9, 29, 34, 55]\n",
    "\n",
    "assert(upper_bound(nums, 9)  == 3)\n",
    "assert(upper_bound(nums, 30) == 4)\n",
    "assert(upper_bound(nums, 57) == -1)\n",
    "assert(upper_bound(nums, 55) == -1)\n",
    "assert(upper_bound(nums, 12) == 3)\n",
    "assert(upper_bound(nums, 5) == 2)\n",
    "assert(upper_bound(nums, -32) == 0)\n",
    "assert(upper_bound(nums, 1) == 1)"
   ]
  },
  {
   "cell_type": "markdown",
   "id": "c127997e-df0f-4588-bbeb-b9cc3359a9e4",
   "metadata": {},
   "source": [
    "#### Lower Bound Binary Search\n",
    " Returns the position of the immediate prev element less than target  \n",
    " Returns pos of element inside array v, -1 if not found  \n",
    " Pre: v is sorted ascendingly"
   ]
  },
  {
   "cell_type": "code",
   "execution_count": 14,
   "id": "ccddb57c-a108-4bf8-809b-13bff407abc7",
   "metadata": {
    "jupyter": {
     "source_hidden": true
    },
    "tags": []
   },
   "outputs": [],
   "source": [
    "def lower_bound(nums: List[int], target: int):\n",
    "    l, r = 0, len(nums)-1\n",
    "    pos = -1\n",
    "    while l <= r:\n",
    "        mid = (l + r)//2\n",
    "        if nums[mid] < target: # is candidate answer\n",
    "            pos = mid\n",
    "            l = mid + 1\n",
    "        else:\n",
    "            r = mid - 1\n",
    "    return pos\n",
    "        "
   ]
  },
  {
   "cell_type": "code",
   "execution_count": 15,
   "id": "3d496366-e7a5-4f12-9a3b-e2a535a474e7",
   "metadata": {
    "jupyter": {
     "source_hidden": true
    }
   },
   "outputs": [],
   "source": [
    "## Test Cases\n",
    "\n",
    "nums = [1, 3, 9, 29, 34, 55]\n",
    "\n",
    "assert(lower_bound(nums, 9)  == 1)\n",
    "assert(lower_bound(nums, 30) == 3)\n",
    "assert(lower_bound(nums, 57)== 5)\n",
    "assert(res := lower_bound(nums,  55) == 4), f\"expected: 4 but was: {res}\" # walrus operator from python 3.8 >, also the assert expression w message\n",
    "assert(lower_bound(nums, 12) == 2)\n",
    "assert(lower_bound(nums, 5) == 1)\n",
    "assert(lower_bound(nums, -32) == -1)\n",
    "assert(lower_bound(nums, 1) == -1)"
   ]
  },
  {
   "cell_type": "markdown",
   "id": "b6fb6e9a-76b0-409d-bb53-c16d1618f88c",
   "metadata": {},
   "source": [
    "#### Lower Equal Bound Binary Search\n",
    "\n",
    "Returns the rightmost position of an element which is less than or equal to the target value.  \n",
    "Returns pos of element inside array v, -1 if not found  \n",
    "Pre: v is sorted ascendingly  \n"
   ]
  },
  {
   "cell_type": "code",
   "execution_count": 16,
   "id": "5874f255-94b4-4037-ba7e-b2f2645f3976",
   "metadata": {
    "jupyter": {
     "source_hidden": true
    }
   },
   "outputs": [],
   "source": [
    "\"\"\"\n",
    "    Returns the rightmost position of an element which is less than or equal to the target value.\n",
    "    Returns pos of element inside array v, -1 if not found\n",
    "    Pre: v is sorted ascendingly\n",
    "\"\"\"\n",
    "def lower_equal_bound(nums: List[int], target: int):\n",
    "    l, r = 0, len(nums)-1\n",
    "    pos = -1\n",
    "    while l <= r:\n",
    "        mid = (l + r) // 2\n",
    "        if nums[mid] <= target: # candidate ans, update\n",
    "            pos = mid\n",
    "            l = mid + 1\n",
    "        else: \n",
    "            r = mid - 1\n",
    "    return pos\n"
   ]
  },
  {
   "cell_type": "code",
   "execution_count": 17,
   "id": "ac8f8873-e61b-481a-bad8-ffc3e5aa06e7",
   "metadata": {
    "jupyter": {
     "source_hidden": true
    }
   },
   "outputs": [],
   "source": [
    "## Test Cases\n",
    "\n",
    "nums = [1, 3, 9, 29, 34, 55]\n",
    "\n",
    "assert(lower_equal_bound(nums, 9)  == 2)\n",
    "assert(lower_equal_bound(nums, 30) == 3)\n",
    "assert(lower_equal_bound(nums, 57) == 5)\n",
    "assert(lower_equal_bound(nums, 55) == 5)\n",
    "assert(lower_equal_bound(nums, 12) == 2)\n",
    "assert(lower_equal_bound(nums, 5) == 1)\n",
    "assert(lower_equal_bound(nums, -32) == -1)\n",
    "assert(lower_equal_bound(nums, 1) == 0)"
   ]
  },
  {
   "cell_type": "markdown",
   "id": "bec88a53-1bad-4618-9ef2-f283693cacdd",
   "metadata": {},
   "source": [
    "#### Upper equal bound binary search\n",
    "Returns the leftmost position of an element which is greater than or equal to the target value.\n",
    "Returns pos of element inside array v, -1 if not found\n",
    "Pre: v is sorted ascendingly\n",
    "I implement this utilizing the lower_bound function from before"
   ]
  },
  {
   "cell_type": "code",
   "execution_count": 18,
   "id": "742649c9-8ae5-4c77-bd18-248be2e003a5",
   "metadata": {
    "jupyter": {
     "source_hidden": true
    }
   },
   "outputs": [],
   "source": [
    "def upper_equal_bound(nums: List[int], target: int):\n",
    "    res = lower_bound(nums, target) + 1\n",
    "    return res if res < len(nums) else -1"
   ]
  },
  {
   "cell_type": "code",
   "execution_count": 19,
   "id": "3de0b4c7-04fe-4097-b4ba-e43079960c09",
   "metadata": {
    "jupyter": {
     "source_hidden": true
    }
   },
   "outputs": [],
   "source": [
    "## Test Cases\n",
    "\n",
    "nums = [1, 3, 9, 29, 34, 55]\n",
    "\n",
    "assert upper_equal_bound(nums, 9)  == 2\n",
    "assert upper_equal_bound(nums, 30) == 4\n",
    "assert (res := (upper_equal_bound(nums, 57))) == -1, f\"expected: 4 but was: {res}\"\n",
    "assert upper_equal_bound(nums, 55) == 5\n",
    "assert upper_equal_bound(nums, 12) == 3\n",
    "assert upper_equal_bound(nums, 5) == 2\n",
    "assert upper_equal_bound(nums, -32) == 0\n",
    "assert upper_equal_bound(nums, 1) == 0"
   ]
  },
  {
   "cell_type": "markdown",
   "id": "e73c5a2e-8692-4b0e-9562-8486a9d94d13",
   "metadata": {},
   "source": [
    "# Conclusions:\n",
    "\n",
    "We only need to implement the exact binary search function, plus 2 other options that complement each other.  \n",
    "The complement of > is <= , and the complement of < is >=.   \n",
    "With those 3 functions, we should be able to get all bound queries as proposed\n",
    "\n",
    "Actually, we can implement only > and < searches, because we could get the complement of either one using the other. Basically, we should be good with implementing 2\n",
    "of the lookups and building the others from them.\n"
   ]
  },
  {
   "cell_type": "markdown",
   "id": "0c83a30e-58d9-412f-9c65-96d04550b32e",
   "metadata": {},
   "source": [
    "### Binary Search over a collection of comparable objects\n",
    "\n",
    "#### To have a comparable class in python 3.8 >:\n",
    "\n",
    "Method 1: Implement the lt function so that the objects are well ordered\n",
    "\n",
    "Method 2: Allow binary search to receive a third parameter which is a function used to order the elements\n"
   ]
  },
  {
   "cell_type": "code",
   "execution_count": 21,
   "id": "e07ac97b-52f7-4c03-ba56-dd52255d9407",
   "metadata": {
    "jupyter": {
     "source_hidden": true
    }
   },
   "outputs": [],
   "source": [
    "class Dog:\n",
    "    ## class shared attributes\n",
    "    \n",
    "    def __init__(self, weight: float):\n",
    "        ## instance attributes\n",
    "        self.weight = weight\n",
    "    def __str__(self):\n",
    "        return f\"Dog(weight: {self.weight})\"\n",
    "    def __repr__(self):\n",
    "        return self.__str__()\n",
    "    \n",
    "    ## Method 1, implement this function\n",
    "    def __lt__(self, other):\n",
    "        return self.weight < other.weight\n",
    "        \n",
    "    "
   ]
  },
  {
   "cell_type": "code",
   "execution_count": 28,
   "id": "18d72e93-575d-4af4-a833-4c4aed953c59",
   "metadata": {
    "jupyter": {
     "source_hidden": true
    }
   },
   "outputs": [],
   "source": [
    "## objects has to be a list of comparable objects so that the operator comparisons work well\n",
    "\n",
    "def exact_bin_search(objects: list, target):\n",
    "    l, r = 0, len(objects)-1\n",
    "    while l <= r:\n",
    "        mid = (l + r) // 2\n",
    "        if objects[mid] > target:\n",
    "            r = mid - 1              ## prune right end of search space including mid element as it does not work\n",
    "        elif objects[mid] < target: \n",
    "            l = mid + 1              ## prune left end of search space including mid element as it does not work\n",
    "        else:\n",
    "            return mid\n",
    "    return -1"
   ]
  },
  {
   "cell_type": "code",
   "execution_count": 29,
   "id": "5a3b8852-7c95-484c-a1ea-0b1708545f42",
   "metadata": {
    "jupyter": {
     "source_hidden": true
    }
   },
   "outputs": [
    {
     "data": {
      "text/plain": [
       "-1"
      ]
     },
     "execution_count": 29,
     "metadata": {},
     "output_type": "execute_result"
    }
   ],
   "source": [
    "exact_bin_search([Dog(3), Dog(4), Dog(5), Dog(7)], Dog(8))"
   ]
  },
  {
   "cell_type": "code",
   "execution_count": 30,
   "id": "d9bdad13-c72d-4e51-8279-e277cc33e42a",
   "metadata": {
    "tags": []
   },
   "outputs": [],
   "source": [
    "## method 2\n",
    "\n",
    "def exact_bin_search(objects, comparison_function, target):\n",
    "    l, r = 0, len(objects)-1\n",
    "    while l <= r:\n",
    "        mid = (l + r) // 2\n",
    "        comparison_value = comparison_function(objects[mid], target)\n",
    "        if comparison_value > 0:   ## objects[mid] > target\n",
    "            r = mid - 1              ## prune right end of search space including mid element as it does not work\n",
    "        elif comparison_value < 0: ## objects[mid] < target\n",
    "            l = mid + 1              ## prune left end of search space including mid element as it does not work\n",
    "        else:                      ## objects[mid] == target\n",
    "            return mid\n",
    "    return -1"
   ]
  },
  {
   "cell_type": "code",
   "execution_count": 34,
   "id": "227ecf99-c534-4850-afdc-18a3e69ce814",
   "metadata": {
    "tags": []
   },
   "outputs": [
    {
     "data": {
      "text/plain": [
       "2"
      ]
     },
     "execution_count": 34,
     "metadata": {},
     "output_type": "execute_result"
    }
   ],
   "source": [
    "exact_bin_search([Dog(3), Dog(4), Dog(5), Dog(7)], (lambda dog, other: dog.weight - other.weight), Dog(5))"
   ]
  },
  {
   "cell_type": "code",
   "execution_count": null,
   "id": "e4b9c031-0fb4-499a-8783-e56fa489fc28",
   "metadata": {
    "tags": []
   },
   "outputs": [],
   "source": []
  }
 ],
 "metadata": {
  "interpreter": {
   "hash": "1911404cf2f536ba61f2fa6be4ccc6ec4283181e6078d8aff963be3e58693192"
  },
  "kernelspec": {
   "display_name": "Python 3",
   "language": "python",
   "name": "python3"
  },
  "language_info": {
   "codemirror_mode": {
    "name": "ipython",
    "version": 3
   },
   "file_extension": ".py",
   "mimetype": "text/x-python",
   "name": "python",
   "nbconvert_exporter": "python",
   "pygments_lexer": "ipython3",
   "version": "3.8.8"
  }
 },
 "nbformat": 4,
 "nbformat_minor": 5
}

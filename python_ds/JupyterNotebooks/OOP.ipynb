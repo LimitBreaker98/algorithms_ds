{
 "cells": [
  {
   "cell_type": "markdown",
   "metadata": {},
   "source": [
    "## Objects in Python\n",
    "\n",
    "### Defining classes "
   ]
  },
  {
   "cell_type": "code",
   "execution_count": 15,
   "metadata": {},
   "outputs": [],
   "source": [
    "\"\"\"\n",
    "    A class to model furniture. This will be the base clase from which diverse objects will inherit from.\n",
    "\n",
    "\"\"\"\n",
    "\n",
    "class Furniture:\n",
    "    ## attributes without \"self\", declared outside of __init__, are CLASS ATTRIBUTES.\n",
    "    ## These are Attributes that an instance can access, but are the same for all instances of the class.\n",
    "    ## Also, one does not need an instance to create them.\n",
    "    \n",
    "    num_of_created_items = 0\n",
    "    num_of_sold_items = 0\n",
    "    \n",
    "    # Initializing method for an instance, creates an instance. \n",
    "    def __init__(self, price, color, name, f_type = \"generic\"):\n",
    "        ## instance attributes, these belong to every instance. Not shared between instances.\n",
    "        self.price = price\n",
    "        self.color = color\n",
    "        self.furniture_type = f_type\n",
    "        self.name = name\n",
    "        Furniture.count_new_item()\n",
    "    \n",
    "    # instance method, operates over instance attributes. \n",
    "    def get_price(self):\n",
    "        return self.price\n",
    "    \n",
    "    def get_color(self):\n",
    "        return self.color\n",
    "    \n",
    "    ## Modifies an instance attribute. \n",
    "    def set_color(self, color):\n",
    "        self.color = color\n",
    "        \n",
    "    def set_price(self, price):\n",
    "        self.price = price\n",
    "        \n",
    "    ## Dunder or magic methods for instances.\n",
    "    def __str__(self):\n",
    "        return f\"Name: {self.name}. Price: {self.price}. Color: {self.color}. Furniture Type: {self.furniture_type}\"\n",
    "    \n",
    "    def __repr__(self): ## To print in interactive mode\n",
    "        return self.__str__()\n",
    "    \n",
    "    ## CLASS METHODS. METHODS THAT DON'T NEED AN INSTANCE TO OPERATE ON.\n",
    "    ## cls is similar to self. Denotes that this is a class method.\n",
    "    @classmethod\n",
    "    def num_created_items(cls):\n",
    "        return cls.num_of_created_items\n",
    "    \n",
    "    @classmethod\n",
    "    def num_sold_items(cls):\n",
    "        return cls.num_of_sold_items\n",
    "    \n",
    "    @classmethod\n",
    "    def count_new_item(cls):\n",
    "        cls.num_of_created_items += 1\n",
    "    \n",
    "        \n",
    "    \n",
    "    "
   ]
  },
  {
   "cell_type": "code",
   "execution_count": 18,
   "metadata": {},
   "outputs": [],
   "source": [
    "generic_furniture = Furniture(0, None, None)"
   ]
  },
  {
   "cell_type": "code",
   "execution_count": 19,
   "metadata": {},
   "outputs": [
    {
     "name": "stdout",
     "output_type": "stream",
     "text": [
      "Name: None. Price: 0. Color: None. Furniture Type: generic\n"
     ]
    }
   ],
   "source": [
    "print(generic_furniture)"
   ]
  },
  {
   "cell_type": "markdown",
   "metadata": {},
   "source": [
    "### Inheritance\n",
    "\n",
    "#### Specific subtypes of furniture can inherit from the base class Furniture."
   ]
  },
  {
   "cell_type": "code",
   "execution_count": 20,
   "metadata": {},
   "outputs": [],
   "source": [
    "## Chair is a class which inherits from Furniture\n",
    "class Chair(Furniture):\n",
    "    \n",
    "    def __init__(self, price, color, name, f_type, num_legs, rigidness, fabric):\n",
    "        super().__init__(price, color, name, f_type)\n",
    "        self.num_legs = num_legs\n",
    "        self.rigidness = rigidness ## hard, soft, med\n",
    "        self.fabric = fabric\n",
    "        Furniture.count_new_item()\n",
    "    \n",
    "    def get_details(self):\n",
    "        return f\"Rigidness: {self.rigidness}. Number of Legs = {self.num_legs}. Fabric: {self.fabric}\""
   ]
  },
  {
   "cell_type": "code",
   "execution_count": 32,
   "metadata": {},
   "outputs": [],
   "source": [
    "gamer_chair = Chair(200000, \"Blue\", \"Type95 RazerChair\", \"Chair\", 4, \"Very Soft\", \"Wool\")"
   ]
  },
  {
   "cell_type": "code",
   "execution_count": 33,
   "metadata": {},
   "outputs": [
    {
     "name": "stdout",
     "output_type": "stream",
     "text": [
      "True\n",
      "True\n"
     ]
    }
   ],
   "source": [
    "print(isinstance(gamer_chair, Chair))\n",
    "print(isinstance(gamer_chair, Furniture))"
   ]
  },
  {
   "cell_type": "code",
   "execution_count": 34,
   "metadata": {},
   "outputs": [
    {
     "name": "stdout",
     "output_type": "stream",
     "text": [
      "Rigidness: Very Soft. Number of Legs = 4. Fabric: Wool\n",
      "Name: Type95 RazerChair. Price: 200000. Color: Blue. Furniture Type: Chair\n"
     ]
    }
   ],
   "source": [
    "print(gamer_chair.get_details())\n",
    "print(gamer_chair)"
   ]
  },
  {
   "cell_type": "code",
   "execution_count": 2,
   "metadata": {},
   "outputs": [],
   "source": [
    "from collections import deque\n"
   ]
  },
  {
   "cell_type": "code",
   "execution_count": 3,
   "metadata": {},
   "outputs": [],
   "source": [
    "x = deque()\n"
   ]
  },
  {
   "cell_type": "code",
   "execution_count": 5,
   "metadata": {},
   "outputs": [],
   "source": [
    "x.append(1)"
   ]
  },
  {
   "cell_type": "code",
   "execution_count": 6,
   "metadata": {},
   "outputs": [],
   "source": [
    "x.append(2)"
   ]
  },
  {
   "cell_type": "code",
   "execution_count": 7,
   "metadata": {},
   "outputs": [
    {
     "name": "stdout",
     "output_type": "stream",
     "text": [
      "deque([1, 2])\n"
     ]
    }
   ],
   "source": [
    "print(x)"
   ]
  },
  {
   "cell_type": "code",
   "execution_count": 9,
   "metadata": {},
   "outputs": [
    {
     "data": {
      "text/plain": [
       "2"
      ]
     },
     "execution_count": 9,
     "metadata": {},
     "output_type": "execute_result"
    }
   ],
   "source": [
    "x[1]"
   ]
  },
  {
   "cell_type": "code",
   "execution_count": null,
   "metadata": {},
   "outputs": [],
   "source": []
  }
 ],
 "metadata": {
  "kernelspec": {
   "display_name": "Python 3",
   "language": "python",
   "name": "python3"
  },
  "language_info": {
   "codemirror_mode": {
    "name": "ipython",
    "version": 3
   },
   "file_extension": ".py",
   "mimetype": "text/x-python",
   "name": "python",
   "nbconvert_exporter": "python",
   "pygments_lexer": "ipython3",
   "version": "3.7.9"
  }
 },
 "nbformat": 4,
 "nbformat_minor": 4
}

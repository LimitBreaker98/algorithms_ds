{
 "cells": [
  {
   "cell_type": "markdown",
   "metadata": {},
   "source": [
    "### Implementations of python 3 data structures"
   ]
  },
  {
   "cell_type": "markdown",
   "metadata": {},
   "source": [
    "### author: Jorge A"
   ]
  },
  {
   "cell_type": "markdown",
   "metadata": {},
   "source": [
    "###### LinkedList"
   ]
  },
  {
   "cell_type": "code",
   "execution_count": 2,
   "metadata": {},
   "outputs": [],
   "source": [
    "class LinkedList:\n",
    "    \n",
    "    ## 2 underscores in front means its hidden except for the LinkedList class\n",
    "    class __Node:\n",
    "        def __init__(self, item, next = None):\n",
    "            self.item = item\n",
    "            self.next = next\n",
    "        \n",
    "        def get_next(self):\n",
    "            return self.next\n",
    "    \n",
    "        def get_item(self):\n",
    "            return self.item\n",
    "\n",
    "        def set_item(self, newItem):\n",
    "            self.item = newItem\n",
    "\n",
    "        def set_next(self, newNext):\n",
    "            self.next = newNext\n",
    "        \n",
    "        def __str__(self):\n",
    "            return str(self.item)\n",
    "    \n",
    "    class __LinkedListIterator:\n",
    "        \n",
    "        def __init__(self, head):\n",
    "            self.current = head.next\n",
    "            \n",
    "        def __iter__(self):\n",
    "            return self\n",
    "        \n",
    "        def __next__(self):\n",
    "            if not self.current:\n",
    "                raise StopIteration\n",
    "            else:\n",
    "                val = self.current.get_item()\n",
    "                self.current = self.current.get_next()\n",
    "                return val\n",
    "    \n",
    "    ## implement next 2 methods to make linkedList iterable!\n",
    "    def __next__(self):\n",
    "        if (self.first):\n",
    "            val = self.first\n",
    "            self.first = self.first.next\n",
    "            return val\n",
    "        else: \n",
    "            raise StopIteration\n",
    "\n",
    "    def __iter__(self):\n",
    "        return LinkedList.__LinkedListIterator(self.first)\n",
    "        \n",
    "    def __str__(self):\n",
    "        curr = self.first.next\n",
    "        rep = [\"(\"]\n",
    "        while(curr):\n",
    "            if (curr.next):\n",
    "                rep.append(str(curr.item) + \" -> \")\n",
    "            else: \n",
    "                rep.append(str(curr.item) + \")\")\n",
    "            curr = curr.next\n",
    "        return \"\".join(rep) ## Fastest string concat!\n",
    "        \n",
    "    def append(self, newNode):\n",
    "        self.last.set_next(newNode)\n",
    "        self.last = self.last.next\n",
    "        self.sz += 1\n",
    "    \n",
    "    def __len__(self):\n",
    "        return self.sz\n",
    "    \n",
    "    def __init__ (self, contents=[]):\n",
    "        self.first = self.last =  LinkedList.__Node(None, None)\n",
    "        self.sz = 0\n",
    "        self.curr = self.first\n",
    "        \n",
    "        for e in contents:\n",
    "            self.append(LinkedList.__Node(e))\n",
    "        "
   ]
  },
  {
   "cell_type": "code",
   "execution_count": 3,
   "metadata": {},
   "outputs": [],
   "source": [
    "ll = LinkedList([3,4,5,6,7,8])"
   ]
  },
  {
   "cell_type": "code",
   "execution_count": 4,
   "metadata": {},
   "outputs": [
    {
     "name": "stdout",
     "output_type": "stream",
     "text": [
      "(3 -> 4 -> 5 -> 6 -> 7 -> 8)\n"
     ]
    }
   ],
   "source": [
    "print(ll)"
   ]
  },
  {
   "cell_type": "code",
   "execution_count": 5,
   "metadata": {},
   "outputs": [
    {
     "name": "stdout",
     "output_type": "stream",
     "text": [
      "3\n",
      "4\n",
      "5\n",
      "6\n",
      "7\n",
      "8\n"
     ]
    }
   ],
   "source": [
    "for i in ll:\n",
    "    print(i)"
   ]
  },
  {
   "cell_type": "code",
   "execution_count": 26,
   "metadata": {},
   "outputs": [],
   "source": [
    "class Letra:\n",
    "    def __init__(self, char):\n",
    "        self.value = char\n",
    "    def __str__(self):\n",
    "        return str(self.value)\n",
    "    def __repr__(self):\n",
    "        return str(self.value)\n",
    "    \n",
    "    def __eq__(self, other):\n",
    "        return self.value == other.value\n",
    "    \n",
    "    def __gt__(self, other):\n",
    "        return self.value > other.value\n",
    "    "
   ]
  },
  {
   "cell_type": "code",
   "execution_count": 27,
   "metadata": {},
   "outputs": [],
   "source": [
    "miletra = Letra(\"a\")"
   ]
  },
  {
   "cell_type": "code",
   "execution_count": 32,
   "metadata": {},
   "outputs": [
    {
     "name": "stdout",
     "output_type": "stream",
     "text": [
      "[h, o, l, a]\n"
     ]
    }
   ],
   "source": [
    "listaLetras = [Letra(l) for l in \"hola\"]\n",
    "print(listaLetras)"
   ]
  },
  {
   "cell_type": "code",
   "execution_count": 30,
   "metadata": {},
   "outputs": [],
   "source": [
    "listaLetras.sort()"
   ]
  },
  {
   "cell_type": "code",
   "execution_count": 31,
   "metadata": {},
   "outputs": [
    {
     "name": "stdout",
     "output_type": "stream",
     "text": [
      "[a, h, l, o]\n"
     ]
    }
   ],
   "source": [
    "print(listaLetras)"
   ]
  },
  {
   "cell_type": "code",
   "execution_count": null,
   "metadata": {},
   "outputs": [],
   "source": []
  }
 ],
 "metadata": {
  "kernelspec": {
   "display_name": "Python 3",
   "language": "python",
   "name": "python3"
  },
  "language_info": {
   "codemirror_mode": {
    "name": "ipython",
    "version": 3
   },
   "file_extension": ".py",
   "mimetype": "text/x-python",
   "name": "python",
   "nbconvert_exporter": "python",
   "pygments_lexer": "ipython3",
   "version": "3.7.9"
  }
 },
 "nbformat": 4,
 "nbformat_minor": 4
}

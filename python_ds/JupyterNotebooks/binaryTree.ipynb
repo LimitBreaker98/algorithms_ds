{
 "cells": [
  {
   "cell_type": "markdown",
   "metadata": {},
   "source": [
    "# Binary Tree Implementation\n",
    "### Author: Jorge A Esguerra A (LimitBreaker98)"
   ]
  },
  {
   "cell_type": "code",
   "execution_count": 2,
   "metadata": {},
   "outputs": [],
   "source": [
    "from collections import deque\n",
    "\n",
    "'''\n",
    "    Node class representing the nodes of a Binary Tree.\n",
    "    Repeated values are handled by the count attribute of the node. It represents how many times the node's value has been added to the tree.\n",
    "'''\n",
    "class Node:\n",
    "    def __init__(self, val, left = None, right = None):\n",
    "        self.val = val\n",
    "        self.left = left\n",
    "        self.right = right\n",
    "        self.count = 1\n",
    "        \n",
    "    def __str__(self):\n",
    "        return f\"(val: {self.val}, cnt: {self.count})\"\n",
    "    \n",
    "    def __repr__(self): ## To print in interactive mode\n",
    "        return self.__str__()\n",
    "\n",
    "'''\n",
    "    The DS that defines a Binary Tree. Objects of this class have a reference to the head Node of the binary tree.\n",
    "'''\n",
    "\n",
    "class BinaryTree:\n",
    "\n",
    "    def __init__(self, val):\n",
    "        self.head = Node(val)\n",
    "    \n",
    "    def insert(self, val):\n",
    "        parentNode = self.findParent(val)\n",
    "        if (val < parentNode.val):\n",
    "            parentNode.left = Node(val)\n",
    "        elif (val > parentNode.val):\n",
    "            parentNode.right = Node(val)\n",
    "        else:\n",
    "            parentNode.count += 1\n",
    "            \n",
    "    def findParent(self, val):\n",
    "        \n",
    "        '''\n",
    "        Finds the parent node of the value val that we are adding to the BT.\n",
    "        If val is already in the BT, it returns the corresponding Node.\n",
    "        '''\n",
    "        def findParentHelper(prev, curr, val):\n",
    "            if not curr:\n",
    "                return prev\n",
    "            if curr.val == val:\n",
    "                return curr\n",
    "            if val < curr.val:\n",
    "                return findParentHelper(curr, curr.left, val)\n",
    "            if val > curr.val:\n",
    "                return findParentHelper(curr, curr.right, val)\n",
    "        prev = curr = self.head\n",
    "        parent = findParentHelper(prev, curr, val)\n",
    "        return parent\n",
    "        \n",
    "    \n",
    "    '''\n",
    "        Tries deleting the corresponding Node of the value val. \n",
    "            - If said Node is not in the tree, the tree is not modified.\n",
    "            - If said Node has a count > 1, the count is reduced by 1\n",
    "            - If said Node has a count == 1, the node is deleted\n",
    "    '''\n",
    "    def delete(self, val):\n",
    "        parentNode = self.findParent(val)\n",
    "        if (parentNode.val == val):\n",
    "            pass\n",
    "    \n",
    "    '''\n",
    "        Returns a list containing the Pre-Order Traversal, calculated Recursively:\n",
    "        PreOrder is: root, left, right\n",
    "    '''\n",
    "    def preOrder(self):\n",
    "        l = []\n",
    "        def preOrderHelper(curr):\n",
    "            l.append(curr)\n",
    "            if (curr.left): \n",
    "                preOrderHelper(curr.left)\n",
    "            if (curr.right): \n",
    "                preOrderHelper(curr.right)\n",
    "        \n",
    "    \n",
    "        preOrderHelper(self.head)\n",
    "        return l\n",
    "    \n",
    "    '''\n",
    "        Returns a list containing the Post-Order Traversal, calculated Recursively:\n",
    "        PostOrder is: left, right, root\n",
    "    '''\n",
    "    \n",
    "    def postOrder(self):\n",
    "        l = []\n",
    "        \n",
    "        def postOrderHelper(curr):\n",
    "            if (curr.left):\n",
    "                postOrderHelper(curr.left)\n",
    "            if (curr.right):\n",
    "                postOrderHelper(curr.right)\n",
    "            l.append(curr)\n",
    "        postOrderHelper(self.head)\n",
    "        return l\n",
    "    \n",
    "    '''\n",
    "        Returns a list containing the In-Order Traversal, calculated Recursively:\n",
    "        In-Order is: left, root, right\n",
    "    '''\n",
    "    \n",
    "    def inOrder(self):\n",
    "        l = []\n",
    "        def inOrderHelper(curr):\n",
    "            if (curr.left):\n",
    "                inOrderHelper(curr.left)\n",
    "            l.append(curr)\n",
    "            if (curr.right):\n",
    "                inOrderHelper(curr.right)\n",
    "        inOrderHelper(self.head)\n",
    "        return l\n",
    "    \n",
    "    '''\n",
    "        Returns a list containing the BFS Traversal of the tree.\n",
    "        Format: \n",
    "        [\n",
    "          [3],\n",
    "          [9,20],\n",
    "          [15,7]\n",
    "        ]\n",
    "    '''\n",
    "    def BFS(self):\n",
    "        myQueue = deque()\n",
    "        myQueue.append(self.head)\n",
    "        l = []\n",
    "        while (len(myQueue)):\n",
    "            levelSz = len(myQueue) ## cuantas veces hacer pop, es como 2 pointers ish.\n",
    "            l.append([])\n",
    "            for i in range(levelSz):\n",
    "                curr = myQueue.popleft()\n",
    "                l[-1].append(curr.val)\n",
    "                if (curr.left):\n",
    "                    myQueue.append(curr.left)\n",
    "                if (curr.right):\n",
    "                    myQueue.append(curr.right)\n",
    "        return l\n",
    "    \n",
    "    "
   ]
  },
  {
   "cell_type": "code",
   "execution_count": 3,
   "metadata": {},
   "outputs": [],
   "source": [
    "'''\n",
    "    Testing:\n",
    "    \n",
    "    The following will be the tree used for testing\n",
    "    \n",
    "                    F\n",
    "              B          G\n",
    "           A     D         I\n",
    "               C   E     H\n",
    "               \n",
    "    Results should be:\n",
    "    PreOrder = [F, B, A, D, C, E, G, I, H]\n",
    "    \n",
    "    PostOrder = [A, C, E, D, B, H, I, G, F]\n",
    "    \n",
    "    InOrder = [A, B, C, D, E, F, G, H, I]\n",
    "    \n",
    "    BFS = ['F', 'B', 'G', 'A', 'D', 'I', 'C', 'E', 'H'] (could be different but this is what the implementation should return)\n",
    "'''\n",
    "testTree = BinaryTree('F')\n",
    "testTree.insert('B')\n",
    "testTree.insert('A')\n",
    "testTree.insert('D')\n",
    "testTree.insert('C')\n",
    "testTree.insert('E')\n",
    "testTree.insert('G')\n",
    "testTree.insert('I')\n",
    "testTree.insert('H')"
   ]
  },
  {
   "cell_type": "code",
   "execution_count": 4,
   "metadata": {},
   "outputs": [
    {
     "name": "stdout",
     "output_type": "stream",
     "text": [
      "['F', 'B', 'A', 'D', 'C', 'E', 'G', 'I', 'H']\n"
     ]
    }
   ],
   "source": [
    "print([node.val for node in testTree.preOrder()])"
   ]
  },
  {
   "cell_type": "code",
   "execution_count": 152,
   "metadata": {},
   "outputs": [
    {
     "name": "stdout",
     "output_type": "stream",
     "text": [
      "['A', 'C', 'E', 'D', 'B', 'H', 'I', 'G', 'F']\n"
     ]
    }
   ],
   "source": [
    "print([node.val for node in testTree.postOrder()])"
   ]
  },
  {
   "cell_type": "code",
   "execution_count": 153,
   "metadata": {},
   "outputs": [
    {
     "name": "stdout",
     "output_type": "stream",
     "text": [
      "['A', 'B', 'C', 'D', 'E', 'F', 'G', 'H', 'I']\n"
     ]
    }
   ],
   "source": [
    "print([node.val for node in testTree.inOrder()])"
   ]
  },
  {
   "cell_type": "code",
   "execution_count": 154,
   "metadata": {},
   "outputs": [
    {
     "name": "stdout",
     "output_type": "stream",
     "text": [
      "[['F'], ['B', 'G'], ['A', 'D', 'I'], ['C', 'E', 'H']]\n"
     ]
    }
   ],
   "source": [
    "print(testTree.BFS())"
   ]
  },
  {
   "cell_type": "code",
   "execution_count": null,
   "metadata": {},
   "outputs": [],
   "source": []
  }
 ],
 "metadata": {
  "kernelspec": {
   "display_name": "Python 3",
   "language": "python",
   "name": "python3"
  },
  "language_info": {
   "codemirror_mode": {
    "name": "ipython",
    "version": 3
   },
   "file_extension": ".py",
   "mimetype": "text/x-python",
   "name": "python",
   "nbconvert_exporter": "python",
   "pygments_lexer": "ipython3",
   "version": "3.8.8"
  }
 },
 "nbformat": 4,
 "nbformat_minor": 4
}

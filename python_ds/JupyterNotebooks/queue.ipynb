{
 "cells": [
  {
   "cell_type": "code",
   "execution_count": 29,
   "metadata": {},
   "outputs": [],
   "source": [
    "## Circular Queue Implementation\n",
    "## Author: Jorge A\n",
    "## Inspired by LeetCode Circular Queue Implementation Question\n",
    "\n",
    "\n",
    "class Node:\n",
    "    def __init__(self, value, prev, nxt):\n",
    "        self.value = value\n",
    "        self.next = nxt\n",
    "        self.prev = prev\n",
    "        \n",
    "\n",
    "\n",
    "class MyCircularQueue:\n",
    "    \n",
    "    def __init__(self, k: int):\n",
    "        \"\"\"\n",
    "        Initialize your data structure here. Set the  max size of the queue to be k.\n",
    "        \"\"\"\n",
    "        self.maxSz = k\n",
    "        self.first = None\n",
    "        self.last = None\n",
    "        self.sz = 0\n",
    "\n",
    "    def enQueue(self, value: int) -> bool:\n",
    "        \"\"\"\n",
    "        Insert an element into the circular queue. Return true if the operation is successful.\n",
    "        \"\"\"\n",
    "        if not self.isFull():  \n",
    "            if self.isEmpty():\n",
    "                self.first = self.last = Node(value, None, None)\n",
    "            else:\n",
    "                self.last.next = Node(value, self.last, self.first) ## make it circular\n",
    "                self.last = self.last.next\n",
    "            self.sz += 1\n",
    "            return True\n",
    "        return False\n",
    "            \n",
    "    def deQueue(self) -> bool:\n",
    "        \"\"\"\n",
    "        Delete an element from the circular queue. Return true if the operation is successful.\n",
    "        \"\"\"\n",
    "        if self.isEmpty():\n",
    "            return False\n",
    "        \n",
    "        self.first = self.first.next\n",
    "        self.last.next = self.first\n",
    "        if self.sz > 1:\n",
    "            self.first.prev = self.last\n",
    "        self.sz -= 1\n",
    "        return True\n",
    "\n",
    "    def Front(self) -> int:\n",
    "        \"\"\"\n",
    "        Get the front item from the queue.\n",
    "        \"\"\"\n",
    "        if self.isEmpty():\n",
    "            return -1\n",
    "        return self.first.value\n",
    "\n",
    "    def Rear(self) -> int:\n",
    "        \"\"\"\n",
    "        Get the last item from the queue.\n",
    "        \"\"\"\n",
    "        if self.isEmpty():\n",
    "            return -1\n",
    "        return self.last.value\n",
    "        \n",
    "\n",
    "    def isEmpty(self) -> bool:\n",
    "        \"\"\"\n",
    "        Checks whether the circular queue is empty or not.\n",
    "        \"\"\"\n",
    "        return self.sz == 0\n",
    "        \n",
    "\n",
    "    def isFull(self) -> bool:\n",
    "        \"\"\"\n",
    "        Checks whether the circular queue is full or not.\n",
    "        \"\"\"\n",
    "        return self.sz == self.maxSz\n",
    "        \n",
    "\n",
    "\n",
    "# Your MyCircularQueue object will be instantiated and called as such:\n",
    "# obj = MyCircularQueue(k)\n",
    "# param_1 = obj.enQueue(value)\n",
    "# param_2 = obj.deQueue()\n",
    "# param_3 = obj.Front()\n",
    "# param_4 = obj.Rear()\n",
    "# param_5 = obj.isEmpty()\n",
    "# param_6 = obj.isFull()"
   ]
  },
  {
   "cell_type": "code",
   "execution_count": 30,
   "metadata": {},
   "outputs": [
    {
     "data": {
      "text/plain": [
       "9"
      ]
     },
     "execution_count": 30,
     "metadata": {},
     "output_type": "execute_result"
    }
   ],
   "source": []
  },
  {
   "cell_type": "code",
   "execution_count": null,
   "metadata": {},
   "outputs": [],
   "source": []
  },
  {
   "cell_type": "code",
   "execution_count": null,
   "metadata": {},
   "outputs": [],
   "source": []
  }
 ],
 "metadata": {
  "kernelspec": {
   "display_name": "Python 3",
   "language": "python",
   "name": "python3"
  },
  "language_info": {
   "codemirror_mode": {
    "name": "ipython",
    "version": 3
   },
   "file_extension": ".py",
   "mimetype": "text/x-python",
   "name": "python",
   "nbconvert_exporter": "python",
   "pygments_lexer": "ipython3",
   "version": "3.7.9"
  }
 },
 "nbformat": 4,
 "nbformat_minor": 4
}

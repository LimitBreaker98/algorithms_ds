{
 "cells": [
  {
   "cell_type": "code",
   "execution_count": 55,
   "metadata": {},
   "outputs": [],
   "source": [
    "#Scope practice"
   ]
  },
  {
   "cell_type": "code",
   "execution_count": 1,
   "metadata": {},
   "outputs": [],
   "source": [
    "def f():\n",
    "    s = 1\n",
    "    for i in range(4):\n",
    "        s = i + 1\n",
    "    print(s)"
   ]
  },
  {
   "cell_type": "code",
   "execution_count": 2,
   "metadata": {},
   "outputs": [
    {
     "name": "stdout",
     "output_type": "stream",
     "text": [
      "4\n"
     ]
    }
   ],
   "source": [
    "f()"
   ]
  },
  {
   "cell_type": "code",
   "execution_count": 11,
   "metadata": {},
   "outputs": [],
   "source": [
    "def f2():\n",
    "    a = [1,2,3]\n",
    "    for i in range(3):\n",
    "        a.append(a[i])\n",
    "    a[1] = 3\n",
    "    print(a)"
   ]
  },
  {
   "cell_type": "code",
   "execution_count": 12,
   "metadata": {},
   "outputs": [
    {
     "name": "stdout",
     "output_type": "stream",
     "text": [
      "[1, 3, 3, 1, 2, 3]\n"
     ]
    }
   ],
   "source": [
    "f2()"
   ]
  },
  {
   "cell_type": "code",
   "execution_count": 22,
   "metadata": {},
   "outputs": [],
   "source": [
    "#keyword global\n",
    "#used when a function requires access to a variable declared in a global scope.\n",
    "\n",
    "x = 3\n",
    "\n",
    "def f():\n",
    "    global x ## without this, the function breaks\n",
    "    print(x)\n",
    "    x = 32\n",
    "    print(x)\n"
   ]
  },
  {
   "cell_type": "code",
   "execution_count": 23,
   "metadata": {},
   "outputs": [
    {
     "name": "stdout",
     "output_type": "stream",
     "text": [
      "3\n",
      "32\n",
      "32\n"
     ]
    }
   ],
   "source": [
    "f()\n",
    "print(x) # global variable was modified"
   ]
  },
  {
   "cell_type": "code",
   "execution_count": 35,
   "metadata": {},
   "outputs": [
    {
     "name": "stdout",
     "output_type": "stream",
     "text": [
      "[9, 2]\n",
      "[9, 2]\n"
     ]
    }
   ],
   "source": [
    "arr = [1,2,3]\n",
    "def f():\n",
    "    global arr # try commenting this.\n",
    "    arr = [9]\n",
    "    arr.append(2)\n",
    "    print(arr)\n",
    "f()\n",
    "print(arr)"
   ]
  },
  {
   "cell_type": "code",
   "execution_count": 46,
   "metadata": {},
   "outputs": [],
   "source": [
    "#Priority queue easy implementation\n",
    "#python provides heapq module, which has functions to heapify a normal python list!\n",
    "import heapq\n",
    "\n",
    "heap = [9,5,7,3,1,2,4,6,10,8]\n",
    "heapq.heapify(heap)\n",
    "\n",
    "for i in range(3):\n",
    "    heapq.heappush(heap, 5)\n",
    "    "
   ]
  },
  {
   "cell_type": "code",
   "execution_count": 47,
   "metadata": {},
   "outputs": [
    {
     "name": "stdout",
     "output_type": "stream",
     "text": [
      "[1, 3, 2, 6, 5, 5, 4, 9, 10, 8, 5, 7, 5]\n"
     ]
    }
   ],
   "source": [
    "print(heap)"
   ]
  },
  {
   "cell_type": "code",
   "execution_count": 49,
   "metadata": {},
   "outputs": [
    {
     "name": "stdout",
     "output_type": "stream",
     "text": [
      "1\n",
      "2\n",
      "3\n",
      "4\n",
      "5\n",
      "5\n",
      "5\n",
      "5\n",
      "6\n",
      "7\n",
      "8\n",
      "9\n",
      "10\n"
     ]
    }
   ],
   "source": [
    "while len(heap):\n",
    "    print(heapq.heappop(heap))"
   ]
  },
  {
   "cell_type": "code",
   "execution_count": 54,
   "metadata": {},
   "outputs": [
    {
     "name": "stdout",
     "output_type": "stream",
     "text": [
      "[44, 7, 0, 2, 5, -3]\n",
      "44\n",
      "7\n",
      "5\n",
      "2\n",
      "0\n",
      "-3\n"
     ]
    }
   ],
   "source": [
    "#MaxPQ implementation\n",
    "heap = [0,2,-3,7,5,44]\n",
    "heapq._heapify_max(heap)\n",
    "print(heap)\n",
    "\n",
    "while len(heap):\n",
    "    print(heapq._heappop_max(heap))\n",
    "    "
   ]
  },
  {
   "cell_type": "code",
   "execution_count": null,
   "metadata": {},
   "outputs": [],
   "source": []
  }
 ],
 "metadata": {
  "kernelspec": {
   "display_name": "Python 3",
   "language": "python",
   "name": "python3"
  },
  "language_info": {
   "codemirror_mode": {
    "name": "ipython",
    "version": 3
   },
   "file_extension": ".py",
   "mimetype": "text/x-python",
   "name": "python",
   "nbconvert_exporter": "python",
   "pygments_lexer": "ipython3",
   "version": "3.7.9"
  }
 },
 "nbformat": 4,
 "nbformat_minor": 4
}

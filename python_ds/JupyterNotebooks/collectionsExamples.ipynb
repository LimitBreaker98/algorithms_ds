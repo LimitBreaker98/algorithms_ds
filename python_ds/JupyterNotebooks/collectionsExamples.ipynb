{
 "cells": [
  {
   "cell_type": "markdown",
   "metadata": {},
   "source": [
    "## Examples using the collections built in library:\n",
    "\n",
    "### Contents:\n",
    "\n",
    "#### 1. deque"
   ]
  },
  {
   "cell_type": "code",
   "execution_count": 101,
   "metadata": {},
   "outputs": [],
   "source": [
    "## Implement an efficient way to calculate the moving average of a stream of data. \n",
    "## the number of elements in the moving average is given\n",
    "\n",
    "from collections import deque\n",
    "from typing import List\n",
    "\n",
    "class MovingAverage:\n",
    "\n",
    "    def __init__(self, size: int):\n",
    "        \"\"\"\n",
    "        Initialize your data structure here.\n",
    "        \"\"\"\n",
    "        self.window = deque([], size)\n",
    "        self.sum = 0\n",
    "        self.maxlen = size\n",
    "\n",
    "    def next(self, val: int) -> float:\n",
    "        if (self.maxlen == len(self.window)):\n",
    "            self.sum -= self.window.popleft()\n",
    "        self.window.append(val) ## since fixed size, it pops from left if full but IT DOESNT RETURN IT\n",
    "        self.sum += val\n",
    "        return self.sum / len(self.window)\n",
    "        "
   ]
  },
  {
   "cell_type": "code",
   "execution_count": 151,
   "metadata": {},
   "outputs": [],
   "source": [
    "\n",
    "def BFS(rooms: List[List[int]], queue) -> None:\n",
    "    INF = int(1 << 31) - 1\n",
    "    def validCoords(row, col, maxRow, maxCol) -> bool:\n",
    "        return 0 <= row <= maxRow and 0 <= col <= maxCol and rooms[row][col] != -1 and rooms[row][col] != -1 and rooms[row][col] == INF\n",
    "    \n",
    "    maxRow = len(rooms) - 1\n",
    "    maxCol = len(rooms[0]) - 1\n",
    "\n",
    "    currLevel = 0\n",
    "    currSz = len(queue)\n",
    "    while len(queue):\n",
    "        \n",
    "        currR, currC = queue.popleft()\n",
    "        \n",
    "        rooms[currR][currC] = currLevel\n",
    "        \n",
    "        if validCoords(currR + 1, currC, maxRow, maxCol):\n",
    "            queue.append((currR + 1, currC))\n",
    "            rooms[currR + 1][currC] = currLevel + 1\n",
    "            \n",
    "        if validCoords(currR, currC + 1, maxRow, maxCol):\n",
    "            queue.append((currR, currC + 1))\n",
    "            rooms[currR][currC + 1] = currLevel + 1\n",
    "            \n",
    "        if validCoords(currR - 1, currC, maxRow, maxCol):\n",
    "            queue.append((currR - 1, currC))\n",
    "            rooms[currR - 1][currC] = currLevel + 1\n",
    "            \n",
    "        if validCoords(currR, currC - 1, maxRow, maxCol):\n",
    "            queue.append((currR, currC - 1))\n",
    "            rooms[currR][currC - 1] = currLevel + 1\n",
    "\n",
    "        currSz -= 1\n",
    "\n",
    "        if currSz == 0:\n",
    "            currLevel += 1\n",
    "            currSz = len(queue)\n",
    "            print(\"level \", str(currLevel), queue)\n",
    "\n",
    "\n",
    "\n",
    "def wallsAndGates(rooms: List[List[int]]) -> None:\n",
    "    \"\"\"\n",
    "    Do not return anything, modify rooms in-place instead.\n",
    "    \"\"\"\n",
    "    sources = deque()\n",
    "    for row in range(len(rooms)):\n",
    "        for col in range(len(rooms[0])):\n",
    "            if rooms[row][col] == 0: ## multisourced BFS\n",
    "                sources.append((row,col))\n",
    "    print(\"level \", str(0), sources)      \n",
    "    BFS(rooms, sources)\n",
    "    \n",
    "    for row in rooms:\n",
    "        print(row)\n"
   ]
  },
  {
   "cell_type": "code",
   "execution_count": 152,
   "metadata": {},
   "outputs": [],
   "source": [
    "INF = int(1 << 31) - 1\n",
    "mat = [\n",
    "    [INF , -1,  0,  INF],\n",
    "    [INF, INF, INF,  -1],\n",
    "    [INF,  -1, INF,  -1],\n",
    "      [0,  -1, INF, INF],\n",
    "]\n"
   ]
  },
  {
   "cell_type": "code",
   "execution_count": 153,
   "metadata": {},
   "outputs": [
    {
     "name": "stdout",
     "output_type": "stream",
     "text": [
      "level  0 deque([(0, 2), (3, 0)])\n",
      "level  1 deque([(1, 2), (0, 3), (2, 0)])\n",
      "level  2 deque([(2, 2), (1, 1), (1, 0)])\n",
      "level  3 deque([(3, 2), (0, 0)])\n",
      "level  4 deque([(3, 3)])\n",
      "level  5 deque([])\n",
      "[3, -1, 0, 1]\n",
      "[2, 2, 1, -1]\n",
      "[1, -1, 2, -1]\n",
      "[0, -1, 3, 4]\n"
     ]
    }
   ],
   "source": [
    "wallsAndGates(mat)"
   ]
  },
  {
   "cell_type": "code",
   "execution_count": null,
   "metadata": {},
   "outputs": [],
   "source": []
  },
  {
   "cell_type": "code",
   "execution_count": 1,
   "metadata": {},
   "outputs": [
    {
     "name": "stdout",
     "output_type": "stream",
     "text": [
      "[[1, 2, 3, 100]]\n",
      "[[1, 2, 3, 100, 103], [1, 2, 3, 100, 103]]\n",
      "[[1, 2, 3, 100, 103, 106], [1, 2, 3, 100, 103, 106], [1, 2, 3, 100, 103, 106]]\n"
     ]
    }
   ],
   "source": [
    "import math\n",
    "listita = [1,2,3]\n",
    "listaGrande = []\n",
    "\n",
    "k = 100\n",
    "for i in range(3):\n",
    "    listita.append(k)\n",
    "    k += 3\n",
    "    listaGrande.append(listita)\n",
    "    print(listaGrande)"
   ]
  },
  {
   "cell_type": "code",
   "execution_count": 2,
   "metadata": {},
   "outputs": [
    {
     "name": "stdout",
     "output_type": "stream",
     "text": [
      "[[1, 2, 3, 100, 103, 106], [1, 2, 3, 100, 103, 106], [1, 2, 3, 100, 103, 106]]\n"
     ]
    }
   ],
   "source": [
    "print(listaGrande)"
   ]
  },
  {
   "cell_type": "code",
   "execution_count": null,
   "metadata": {},
   "outputs": [],
   "source": []
  },
  {
   "cell_type": "code",
   "execution_count": null,
   "metadata": {},
   "outputs": [],
   "source": []
  }
 ],
 "metadata": {
  "kernelspec": {
   "display_name": "Python 3",
   "language": "python",
   "name": "python3"
  },
  "language_info": {
   "codemirror_mode": {
    "name": "ipython",
    "version": 3
   },
   "file_extension": ".py",
   "mimetype": "text/x-python",
   "name": "python",
   "nbconvert_exporter": "python",
   "pygments_lexer": "ipython3",
   "version": "3.8.8"
  }
 },
 "nbformat": 4,
 "nbformat_minor": 4
}

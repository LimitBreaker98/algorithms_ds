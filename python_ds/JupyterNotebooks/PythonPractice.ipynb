{
 "cells": [
  {
   "cell_type": "markdown",
   "metadata": {},
   "source": [
    "# Python practice\n",
    "    Author: Jorge A\n",
    "    Purpose: Knowing specific things of the python language that make it sweet.\n"
   ]
  },
  {
   "cell_type": "markdown",
   "metadata": {},
   "source": [
    "## Language WARNINGS\n",
    "\n",
    "1. Sets are UNORDERED in python. Use a priorityQueue instead.\n",
    "    from queue import PriorityQueue as PQ\n",
    "    PriorityQueue will require class nodes to be well ordered. Define __lt__ and use functools.totalordering annotation.\n",
    "    Sets use the hashing function to quickly test membership in constant time. \n",
    "    \n",
    "2. Use iterable comprehensions when possible to make code more succinct!\n",
    "    We can do it for lists, sets."
   ]
  },
  {
   "cell_type": "markdown",
   "metadata": {},
   "source": [
    "### Iterable unpacking: Assigning the values of an iterable to multiple references in one single line.\n",
    "##### Python std iterable structures: List, Dict, Set, Tuple"
   ]
  },
  {
   "cell_type": "code",
   "execution_count": 4,
   "metadata": {},
   "outputs": [
    {
     "name": "stdout",
     "output_type": "stream",
     "text": [
      "3 8\n",
      "1 2 hwsdfa\n",
      "a [2, 3] c\n",
      "{('a', 'b', 'c'), 'a'}\n"
     ]
    }
   ],
   "source": [
    "elem1, elem2 = [3,8]\n",
    "print(elem1,elem2)\n",
    "#print (elem1, elem2)\n",
    "\n",
    "member1, member2, member3 = {1,2, \"hwsdfa\"}\n",
    "print(member1, member2, member3)\n",
    "\n",
    "a,b,c = ('a', [2,3], 'c')\n",
    "print (a,b,c)\n",
    "\n",
    "key_1, key_2, key_3 = {\"a\" : 1, \"b\": 2, \"c\": 3}\n",
    "#print(key_1, key_2, key_3)\n",
    "# Mutability rules\n",
    "tup = ('a', 'b', 'c') # changing an element of the inner list is valid -> tup[1][0] = 3\n",
    "\n",
    "# A set can receive anything as long as it is non mutable.\n",
    "#References (x) will be treated as the object they point to at the moment of inclusion in the set\n",
    "\n",
    "conjunto = {'a', tup} # Everything has to be hashable, adding a list to the set fails!\n",
    "print(conjunto)"
   ]
  },
  {
   "cell_type": "code",
   "execution_count": 4,
   "metadata": {},
   "outputs": [],
   "source": [
    "## PriorityQueue example\n",
    "\n",
    "# Defining a class that is well ordered so that we can use priority queue..\n",
    "class use_only_first:\n",
    "    def __init__(self, first, second):\n",
    "        self._first, self._second = first, second\n",
    "\n",
    "    def __lt__(self, other):\n",
    "        return self._first < other._first\n",
    "\n",
    "from queue import PriorityQueue as PQ\n",
    "\n",
    "class Solution:\n",
    "    def mergeKLists(self, lists):\n",
    "        merged_head = curr = ListNode(-1)\n",
    "        q = PQ()\n",
    "        for head in lists:\n",
    "            if head is not None:\n",
    "                q.put(use_only_first(head.val, head))\n",
    "        \n",
    "        while not q.empty():\n",
    "            obj = q.get()\n",
    "            val, node = obj._first, obj._second\n",
    "            curr.next = node\n",
    "            curr = curr.next\n",
    "            node = node.next\n",
    "            if node: \n",
    "                q.put(use_only_first(node.val, node))\n",
    "        return merged_head.next\n",
    "        "
   ]
  },
  {
   "cell_type": "markdown",
   "metadata": {},
   "source": [
    "#### Lambda Expressions"
   ]
  },
  {
   "cell_type": "code",
   "execution_count": 9,
   "metadata": {},
   "outputs": [
    {
     "name": "stdout",
     "output_type": "stream",
     "text": [
      "[-1, -2, -5, -6]\n"
     ]
    }
   ],
   "source": [
    "# List\n",
    "lista = [3,2,1,5,6,7,8,9,-1,2,3,4,-2,-5,-6]\n",
    "res = list(filter(lambda num: num < 0, lista))\n",
    "print(res)"
   ]
  },
  {
   "cell_type": "code",
   "execution_count": 6,
   "metadata": {},
   "outputs": [],
   "source": [
    "tupleList = [(1,2), (3,4), (5,6)]\n",
    "res = list(filter(lambda tup: tup[0] < tup[1], tupleList))"
   ]
  },
  {
   "cell_type": "code",
   "execution_count": 7,
   "metadata": {},
   "outputs": [
    {
     "data": {
      "text/plain": [
       "0"
      ]
     },
     "execution_count": 7,
     "metadata": {},
     "output_type": "execute_result"
    }
   ],
   "source": [
    "tup = (3,4,5,6,7)\n",
    "tup.count(10)"
   ]
  },
  {
   "cell_type": "markdown",
   "metadata": {},
   "source": [
    "### Iterable Comprehensions: easy syntax to initialize Iterables"
   ]
  },
  {
   "cell_type": "code",
   "execution_count": 15,
   "metadata": {},
   "outputs": [
    {
     "name": "stdout",
     "output_type": "stream",
     "text": [
      "{3, 5, 7, 9, 10, 20}\n",
      "[1, 2, 3, 12, 21]\n",
      "{1: [10, 20]}\n"
     ]
    }
   ],
   "source": [
    "## List\n",
    "letters = [letter for letter in \"string\"]\n",
    "#print(letters)\n",
    "\n",
    "parity_of_integers = [num % 4 for num in range(30)]\n",
    "\n",
    "#print(parity_of_integers)\n",
    "\n",
    "seen_set = {x for x in [3,5,7,9,10,10,10,20]}\n",
    "print(seen_set)\n",
    "\n",
    "x = list(set([3,3,3,3,3,3,3,3,1,2,2,2,12,1,21,2,12,1,2,2]))\n",
    "print(x)\n",
    "\n",
    "seen_dict = {key: value for key, value in [(1,[10,20])]}  ## Less useful as we need a list of (maybe) any kind of 2 valued iterables\n",
    "print(seen_dict)"
   ]
  },
  {
   "cell_type": "markdown",
   "metadata": {},
   "source": [
    "#### Applications of Iterable Comprehensions"
   ]
  },
  {
   "cell_type": "code",
   "execution_count": 18,
   "metadata": {},
   "outputs": [
    {
     "data": {
      "text/plain": [
       "[[0, 0], [0, 0], [0, 0]]"
      ]
     },
     "execution_count": 18,
     "metadata": {},
     "output_type": "execute_result"
    }
   ],
   "source": [
    "## Initialize dp cache\n",
    "rows = 3\n",
    "cols = 2\n",
    "dp = [[0 for c in range(cols)] for r in range(rows)]\n",
    "dp"
   ]
  },
  {
   "cell_type": "code",
   "execution_count": 16,
   "metadata": {},
   "outputs": [
    {
     "data": {
      "text/plain": [
       "[[0, 0], [0, 0], [0, 0]]"
      ]
     },
     "execution_count": 16,
     "metadata": {},
     "output_type": "execute_result"
    }
   ],
   "source": [
    "## Another version\n",
    "dp2 = rows * [cols * [0]]\n",
    "dp2"
   ]
  },
  {
   "cell_type": "markdown",
   "metadata": {},
   "source": [
    "#### Binary Search"
   ]
  },
  {
   "cell_type": "markdown",
   "metadata": {},
   "source": [
    "Binary Search has lots of applications, here we mention 2 super common cases. Simplified to search over arrays.\n",
    "\n",
    "\n",
    "##### Case 1:\n",
    "Let P(X) be a monotonically increasing predicate. This means that P(X) >= P(X-1) for all X > 1\n",
    "Find X such that P(X) == target\n"
   ]
  },
  {
   "cell_type": "code",
   "execution_count": 17,
   "metadata": {},
   "outputs": [
    {
     "name": "stdout",
     "output_type": "stream",
     "text": [
      "l: 0\n",
      "mid: 3\n",
      "r: 7\n",
      "--------\n",
      "l: 0\n",
      "mid: 1\n",
      "r: 2\n",
      "--------\n",
      "l: 2\n",
      "mid: 2\n",
      "r: 2\n",
      "--------\n",
      "-1\n"
     ]
    }
   ],
   "source": [
    "P = [1,3,7,9,11,13,15,20]   # in this case X is the array index, P(X) is to be understood as P[index]\n",
    "\n",
    "\n",
    "## Returns the position of the target value searched within the array, -1 if not found\n",
    "\n",
    "def binarySearch (items, target: int):\n",
    "    l, r = 0, len(items)-1\n",
    "\n",
    "    while l <= r:\n",
    "        print(f\"l: {l}\")\n",
    "        mid = (l+r) // 2\n",
    "        print(f\"mid: {mid}\")\n",
    "        print(f\"r: {r}\")\n",
    "        print('--------')\n",
    "        if P[mid] == target:\n",
    "            return mid\n",
    "        elif P[mid] > target:\n",
    "            r = mid - 1\n",
    "        else:\n",
    "            l = mid + 1\n",
    "    return -1\n",
    "\n",
    "'''\n",
    "    testing\n",
    "    P = [1,3,7,9,11,13,15,20]\n",
    "    \n",
    "    index(3) = 1\n",
    "    index(-1) = -1\n",
    "    index(100) = -1\n",
    "    index (11) = 4\n",
    "'''\n",
    "\n",
    "#print(binarySearch(P, 3))\n",
    "#print(binarySearch(P, -1))\n",
    "#print(binarySearch(P, 100))\n",
    "#print(binarySearch(P, 4))\n"
   ]
  },
  {
   "cell_type": "markdown",
   "metadata": {},
   "source": [
    "##### Case 2: \n",
    "Let P(X) be a monotonically increasing predicate. This means that P(X) >= P(X-1) for all X > 1\n",
    "Find X such that P(X) >= target and P(X-1) < target.\n",
    "i.e Find the index to the first element in the range [first,last) which does not compare less than target.\n"
   ]
  },
  {
   "cell_type": "code",
   "execution_count": null,
   "metadata": {},
   "outputs": [],
   "source": [
    "def lower_bound(items, target):\n",
    "    l, r = 0, len(items)-1\n",
    "    \n",
    "    while l <= r:\n",
    "        mid = (l+r)//2\n",
    "        "
   ]
  },
  {
   "cell_type": "markdown",
   "metadata": {},
   "source": [
    "### Sorting using lambdas\n"
   ]
  },
  {
   "cell_type": "code",
   "execution_count": 27,
   "metadata": {},
   "outputs": [],
   "source": [
    "l = [[100,103,105],[100,103,33],[100,10,27], [100, 103, 50]]"
   ]
  },
  {
   "cell_type": "code",
   "execution_count": 28,
   "metadata": {},
   "outputs": [],
   "source": [
    "l.sort(key = lambda x: (x[1], x[2]))"
   ]
  },
  {
   "cell_type": "code",
   "execution_count": 29,
   "metadata": {},
   "outputs": [
    {
     "data": {
      "text/plain": [
       "[[100, 10, 27], [100, 103, 33], [100, 103, 50], [100, 103, 105]]"
      ]
     },
     "execution_count": 29,
     "metadata": {},
     "output_type": "execute_result"
    }
   ],
   "source": [
    "l"
   ]
  },
  {
   "cell_type": "code",
   "execution_count": 10,
   "metadata": {},
   "outputs": [],
   "source": [
    "memo = [[0 for col in range(10)]] * 4"
   ]
  },
  {
   "cell_type": "code",
   "execution_count": 11,
   "metadata": {},
   "outputs": [
    {
     "data": {
      "text/plain": [
       "[[0, 0, 0, 0, 0, 0, 0, 0, 0, 0],\n",
       " [0, 0, 0, 0, 0, 0, 0, 0, 0, 0],\n",
       " [0, 0, 0, 0, 0, 0, 0, 0, 0, 0],\n",
       " [0, 0, 0, 0, 0, 0, 0, 0, 0, 0]]"
      ]
     },
     "execution_count": 11,
     "metadata": {},
     "output_type": "execute_result"
    }
   ],
   "source": [
    "memo"
   ]
  },
  {
   "cell_type": "code",
   "execution_count": 12,
   "metadata": {},
   "outputs": [],
   "source": [
    "memo[3][7] = 3"
   ]
  },
  {
   "cell_type": "code",
   "execution_count": 13,
   "metadata": {},
   "outputs": [
    {
     "data": {
      "text/plain": [
       "[[0, 0, 0, 0, 0, 0, 0, 3, 0, 0],\n",
       " [0, 0, 0, 0, 0, 0, 0, 3, 0, 0],\n",
       " [0, 0, 0, 0, 0, 0, 0, 3, 0, 0],\n",
       " [0, 0, 0, 0, 0, 0, 0, 3, 0, 0]]"
      ]
     },
     "execution_count": 13,
     "metadata": {},
     "output_type": "execute_result"
    }
   ],
   "source": [
    "memo"
   ]
  },
  {
   "cell_type": "code",
   "execution_count": 14,
   "metadata": {},
   "outputs": [],
   "source": [
    "memo = [[0 for col in range(10)] for row in range(4)] "
   ]
  },
  {
   "cell_type": "code",
   "execution_count": 16,
   "metadata": {},
   "outputs": [],
   "source": [
    "memo[3][7] = 3"
   ]
  },
  {
   "cell_type": "code",
   "execution_count": 17,
   "metadata": {},
   "outputs": [
    {
     "data": {
      "text/plain": [
       "[[0, 0, 0, 0, 0, 0, 0, 0, 0, 0],\n",
       " [0, 0, 0, 0, 0, 0, 0, 0, 0, 0],\n",
       " [0, 0, 0, 0, 0, 0, 0, 0, 0, 0],\n",
       " [0, 0, 0, 0, 0, 0, 0, 3, 0, 0]]"
      ]
     },
     "execution_count": 17,
     "metadata": {},
     "output_type": "execute_result"
    }
   ],
   "source": [
    "memo"
   ]
  },
  {
   "cell_type": "code",
   "execution_count": 18,
   "metadata": {},
   "outputs": [],
   "source": [
    "\n"
   ]
  },
  {
   "cell_type": "code",
   "execution_count": 51,
   "metadata": {},
   "outputs": [],
   "source": [
    "def longestPalindrome(s: str) -> str:\n",
    "    n = len(s)\n",
    "    isPalindrome = [[False for col in range(n)] for row in range(n)]\n",
    "    posStart, posEnd = 0,0\n",
    "    # base case 1, a one letter substring is a palindrome\n",
    "    for i in range(n):\n",
    "        isPalindrome[i][i] = True\n",
    "\n",
    "    # base case 2, a 2 letter string is palindrome only if same letters\n",
    "    for i in range(n-1):\n",
    "        if s[i] == s[i+1]:\n",
    "            isPalindrome[i][i+1] = True\n",
    "            posStart, posEnd = i, i + 1\n",
    "\n",
    "    #General case, iterate over the possible size of substrings, from 3 letters to N letters.\n",
    "    \n",
    "    for sz in range(2, n):\n",
    "        for i in range(n):\n",
    "            if i + sz < n: # valid substring\n",
    "                sameEnd = s[i] == s[i + sz]\n",
    "                isPalindrome[i][i + sz] = sameEnd and isPalindrome[i+1][i + sz - 1]\n",
    "                if (isPalindrome[i][i + sz]):\n",
    "                    posStart = i\n",
    "                    posEnd = i + sz\n",
    "    return s[posStart:posEnd+1]"
   ]
  },
  {
   "cell_type": "code",
   "execution_count": 53,
   "metadata": {},
   "outputs": [
    {
     "name": "stdout",
     "output_type": "stream",
     "text": [
      "[[True, False, True, False, False], [False, True, False, True, False], [False, False, True, False, False], [False, False, False, True, False], [False, False, False, False, True]]\n"
     ]
    },
    {
     "data": {
      "text/plain": [
       "'aba'"
      ]
     },
     "execution_count": 53,
     "metadata": {},
     "output_type": "execute_result"
    }
   ],
   "source": [
    "longestPalindrome(\"babad\")"
   ]
  },
  {
   "cell_type": "code",
   "execution_count": null,
   "metadata": {},
   "outputs": [],
   "source": []
  },
  {
   "cell_type": "code",
   "execution_count": null,
   "metadata": {},
   "outputs": [],
   "source": []
  }
 ],
 "metadata": {
  "kernelspec": {
   "display_name": "Python 3",
   "language": "python",
   "name": "python3"
  },
  "language_info": {
   "codemirror_mode": {
    "name": "ipython",
    "version": 3
   },
   "file_extension": ".py",
   "mimetype": "text/x-python",
   "name": "python",
   "nbconvert_exporter": "python",
   "pygments_lexer": "ipython3",
   "version": "3.7.9"
  }
 },
 "nbformat": 4,
 "nbformat_minor": 4
}

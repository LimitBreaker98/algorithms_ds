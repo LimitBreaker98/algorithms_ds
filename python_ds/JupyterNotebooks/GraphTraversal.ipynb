{
 "cells": [
  {
   "cell_type": "markdown",
   "metadata": {},
   "source": [
    "### Graph algorithms and tree algorithms, ideas\n",
    "#### Author: Jorge A"
   ]
  },
  {
   "cell_type": "code",
   "execution_count": 66,
   "metadata": {},
   "outputs": [],
   "source": [
    "from typing import List\n",
    "from collections import deque\n",
    "## Defining a graph as an adjacency list\n",
    "graph = [[2], [2,3,4], [0,1], [3], [1,5], [4,6], [5]]"
   ]
  },
  {
   "cell_type": "code",
   "execution_count": 70,
   "metadata": {},
   "outputs": [],
   "source": [
    "class GraphTraversal:\n",
    "    def __init__(self, graph: List[List[int]]):\n",
    "        self.visited = [False for _ in graph]\n",
    "        self.graph = graph\n",
    "        \n",
    "    def dfs(self, src: int) -> None:\n",
    "        self.visited[src] = True\n",
    "        print(src)\n",
    "        for nei in self.graph[src]:\n",
    "            if not self.visited[nei]:\n",
    "                self.dfs(nei)\n",
    "                \n",
    "    def dfs_iter(self, src: int) -> None:\n",
    "        stack = [src]\n",
    "        while len(stack):\n",
    "            curr_node = stack.pop()\n",
    "            print(curr_node)\n",
    "            self.visited[curr_node] = True\n",
    "            for nei in self.graph[curr_node]:\n",
    "                if not self.visited[nei]:\n",
    "                    stack.append(nei)\n",
    "    \n",
    "    def reset_visited(self):\n",
    "        self.visited = [False for _ in graph]\n",
    "        \n",
    "    def print_dfs(self, src: int):\n",
    "        traversals.dfs(src)\n",
    "        traversals.reset_visited()\n",
    "\n",
    "    def print_dfs_iter(self, src: int):\n",
    "        traversals.dfs_iter(src)\n",
    "        traversals.reset_visited()\n",
    "    "
   ]
  },
  {
   "cell_type": "code",
   "execution_count": 71,
   "metadata": {},
   "outputs": [
    {
     "name": "stdout",
     "output_type": "stream",
     "text": [
      "0\n",
      "2\n",
      "1\n",
      "3\n",
      "4\n",
      "5\n",
      "6\n"
     ]
    }
   ],
   "source": [
    "traversals = GraphTraversal(graph)\n",
    "traversals.print_dfs(0)"
   ]
  },
  {
   "cell_type": "code",
   "execution_count": 72,
   "metadata": {},
   "outputs": [
    {
     "name": "stdout",
     "output_type": "stream",
     "text": [
      "0\n",
      "2\n",
      "1\n",
      "4\n",
      "5\n",
      "6\n",
      "3\n"
     ]
    }
   ],
   "source": [
    "traversals.print_dfs_iter(0)"
   ]
  },
  {
   "cell_type": "code",
   "execution_count": 55,
   "metadata": {},
   "outputs": [],
   "source": [
    "\"\"\"\n",
    "    Trees are special graphs with n nodes, n-1 edges, and a single connected component. In other words, they are acyclic. \n",
    "\"\"\"\n",
    "class TreeTraversal:\n",
    "    def __init__(self, graph: List[List[int]]):\n",
    "        self.visited = [False for _ in graph]\n",
    "        self.graph = graph\n",
    "    \n"
   ]
  },
  {
   "cell_type": "code",
   "execution_count": 56,
   "metadata": {},
   "outputs": [
    {
     "name": "stdout",
     "output_type": "stream",
     "text": [
      "<class 'function'>\n"
     ]
    }
   ],
   "source": []
  },
  {
   "cell_type": "code",
   "execution_count": null,
   "metadata": {},
   "outputs": [],
   "source": []
  }
 ],
 "metadata": {
  "kernelspec": {
   "display_name": "Python 3",
   "language": "python",
   "name": "python3"
  },
  "language_info": {
   "codemirror_mode": {
    "name": "ipython",
    "version": 3
   },
   "file_extension": ".py",
   "mimetype": "text/x-python",
   "name": "python",
   "nbconvert_exporter": "python",
   "pygments_lexer": "ipython3",
   "version": "3.7.9"
  }
 },
 "nbformat": 4,
 "nbformat_minor": 4
}

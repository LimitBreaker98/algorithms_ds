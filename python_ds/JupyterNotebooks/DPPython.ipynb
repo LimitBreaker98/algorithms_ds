{
 "cells": [
  {
   "cell_type": "markdown",
   "metadata": {},
   "source": [
    "#### A section where solutions to DP are presented in python"
   ]
  },
  {
   "cell_type": "code",
   "execution_count": 1,
   "metadata": {},
   "outputs": [],
   "source": [
    "### Longest Palindromic substring\n",
    "# Given s, a string, determine the longest palindromic substring inside it.\n"
   ]
  },
  {
   "cell_type": "code",
   "execution_count": 2,
   "metadata": {},
   "outputs": [],
   "source": [
    "## V1, DP O(n^2) time, O(n^2) space where n = len(s)\n",
    "## Veredict: Accepted\n",
    "\n",
    "def longestPalindrome(s: str) -> str:\n",
    "    n = len(s)\n",
    "    isPalindrome = [[False for col in range(n)] for row in range(n)]\n",
    "    posStart, posEnd = 0,0\n",
    "    # base case 1, a one letter substring is a palindrome\n",
    "    for i in range(n):\n",
    "        isPalindrome[i][i] = True\n",
    "\n",
    "    # base case 2, a 2 letter string is palindrome only if same letters\n",
    "    for i in range(n-1):\n",
    "        if s[i] == s[i+1]:\n",
    "            isPalindrome[i][i+1] = True\n",
    "            posStart, posEnd = i, i + 1\n",
    "\n",
    "    #General case, iterate over the possible size of substrings, from 3 letters to N letters.\n",
    "    \n",
    "    for sz in range(2, n):\n",
    "        for i in range(n):\n",
    "            if i + sz < n: # valid substring\n",
    "                sameEnd = s[i] == s[i + sz]\n",
    "                isPalindrome[i][i + sz] = sameEnd and isPalindrome[i+1][i + sz - 1]\n",
    "                if (isPalindrome[i][i + sz]):\n",
    "                    posStart = i\n",
    "                    posEnd = i + sz\n",
    "    return s[posStart:posEnd+1]"
   ]
  },
  {
   "cell_type": "code",
   "execution_count": 11,
   "metadata": {},
   "outputs": [],
   "source": [
    "## Improving space to O(n)\n",
    "## Realize you can iterate from end to beginning starting points, and only have an array for the next level answer\n",
    "## Draw arrows in the DP matrix to realize the form of the dependency graph\n",
    "## Veredict: Accepted\n",
    "\n",
    "def longestPalindromeV2(s: str) -> str:\n",
    "    n = len(s)\n",
    "    if len(s) == 0:\n",
    "        return ''\n",
    "    isPalindrome = [False for col in range(n)]\n",
    "    isPalindrome[n-1] = True\n",
    "    posStart, posEnd = n-1, n-1\n",
    "    \n",
    "    \n",
    "    for r in reversed(range(n)):\n",
    "        for c in reversed(range(r, n)):\n",
    "            if r == c: # base case 1\n",
    "                isPalindrome[c] = True\n",
    "            elif r + 1 == c and s[r] == s[c]: #base case 2\n",
    "                isPalindrome[c] = True\n",
    "                if c - r + 1 > posEnd - posStart + 1:\n",
    "                    posStart, posEnd = r, c\n",
    "            else:\n",
    "                isPalindrome[c] = isPalindrome[c-1] and s[r] == s[c]\n",
    "                if isPalindrome[c] and c - r + 1 > posEnd - posStart + 1:\n",
    "                    posStart, posEnd = r, c\n",
    "    \n",
    "    return s[posStart:posEnd + 1]\n",
    "    \n",
    "    "
   ]
  },
  {
   "cell_type": "code",
   "execution_count": 14,
   "metadata": {},
   "outputs": [
    {
     "data": {
      "text/plain": [
       "'babab'"
      ]
     },
     "execution_count": 14,
     "metadata": {},
     "output_type": "execute_result"
    }
   ],
   "source": [
    "longestPalindromeV2(\"babab\")"
   ]
  },
  {
   "cell_type": "code",
   "execution_count": 46,
   "metadata": {},
   "outputs": [],
   "source": [
    "#Longest palindromic subsequence\n",
    "\n",
    "#best(i, j) -> the length of the longest palindromic subsequence using characters of s from i to j, inclusive.\n",
    "\n",
    "def longestPalindromeSubseq(s: str) -> int:\n",
    "    n = len(s)\n",
    "    best = [[0 for col in range(n)] for row in range(n)]\n",
    "    ans = 1\n",
    "    # base case 1: single character is always a palindrome\n",
    "    for i in range(n):\n",
    "        best[i][i] = 1\n",
    "    # base case 2: for length 2 substrings, palindrome only if same characters\n",
    "    for i in range(n-1):\n",
    "        best[i][i+1] = 1\n",
    "        if s[i] == s[i+1]:\n",
    "            best[i][i+1] = 2\n",
    "            ans = 2\n",
    "    \n",
    "    # Other cases\n",
    "    for xtrLtts in range(2, n):\n",
    "        for stPos in range(n):\n",
    "            endPos = stPos + xtrLtts\n",
    "            if endPos < n:\n",
    "                best[stPos][endPos] = best[stPos + 1][endPos - 1] \n",
    "                if s[stPos] == s[endPos]:\n",
    "                    best[stPos][endPos] += 2 \n",
    "                print(best[stPos][endPos], stPos, endPos)\n",
    "                ans = max(ans, best[stPos][endPos])\n",
    "    \n",
    "    return ans\n",
    "    \n",
    "        "
   ]
  },
  {
   "cell_type": "code",
   "execution_count": 54,
   "metadata": {},
   "outputs": [
    {
     "name": "stdout",
     "output_type": "stream",
     "text": [
      "3 0 2\n",
      "1 1 3\n",
      "3 2 4\n",
      "2 0 3\n",
      "3 1 4\n",
      "3 0 4\n"
     ]
    },
    {
     "data": {
      "text/plain": [
       "3"
      ]
     },
     "execution_count": 54,
     "metadata": {},
     "output_type": "execute_result"
    }
   ],
   "source": [
    "longestPalindromeSubseq(\"bbbab\")"
   ]
  },
  {
   "cell_type": "code",
   "execution_count": null,
   "metadata": {},
   "outputs": [],
   "source": []
  }
 ],
 "metadata": {
  "kernelspec": {
   "display_name": "Python 3",
   "language": "python",
   "name": "python3"
  },
  "language_info": {
   "codemirror_mode": {
    "name": "ipython",
    "version": 3
   },
   "file_extension": ".py",
   "mimetype": "text/x-python",
   "name": "python",
   "nbconvert_exporter": "python",
   "pygments_lexer": "ipython3",
   "version": "3.8.8"
  }
 },
 "nbformat": 4,
 "nbformat_minor": 4
}

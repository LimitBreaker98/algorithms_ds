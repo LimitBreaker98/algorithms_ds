{
 "cells": [
  {
   "cell_type": "markdown",
   "metadata": {},
   "source": [
    "## String Data Structures\n",
    "#### Author: Jorge A\n",
    "#### Inspired by CompProg3"
   ]
  },
  {
   "cell_type": "markdown",
   "metadata": {},
   "source": [
    "### Trie"
   ]
  },
  {
   "cell_type": "code",
   "execution_count": 142,
   "metadata": {},
   "outputs": [],
   "source": [
    "class TrieNode:\n",
    "    def __init__(self, char: str, isWord: bool):\n",
    "        self.next_chars = {} #Dictionary of Trie Nodes, access and retrieval O(1) as hashing a char is constant time\n",
    "        self.char = char\n",
    "        self.ends_word = isWord\n",
    "    \n",
    "    def has_char(self, char: str) -> bool:\n",
    "        return char in self.next_chars\n",
    "    \n",
    "    def count_words_prefix_dfs(self) -> int:\n",
    "        cnt = 0\n",
    "        for char in self.next_chars:\n",
    "            cnt += self.next_chars[char].count_words_prefix_dfs()\n",
    "        if self.ends_word:\n",
    "            cnt += 1\n",
    "        return cnt\n",
    "    \n",
    "    "
   ]
  },
  {
   "cell_type": "code",
   "execution_count": 143,
   "metadata": {},
   "outputs": [],
   "source": [
    "class Dictionary:\n",
    "    def __init__(self):\n",
    "        self.root = TrieNode(None, False)\n",
    "    \n",
    "    def add_word(self, word: str) -> None:\n",
    "        curr_node = self.root\n",
    "        for char in word:\n",
    "            if not curr_node.has_char(char):\n",
    "                curr_node.next_chars[char] = TrieNode(char, False)\n",
    "            curr_node = curr_node.next_chars[char]\n",
    "        curr_node.ends_word = True\n",
    "    \n",
    "    \"\"\"\n",
    "        get_prefix will return None if the word is not found, otherwise it will return the last node of the word. \n",
    "        This is not called get_word as maybe the input is not actually a word.\n",
    "        Then, has word only has to call get_prefix and then ask if it is actually a word.\n",
    "    \"\"\"\n",
    "    def get_prefix(self, word: str) -> TrieNode:\n",
    "        curr_node = self.root\n",
    "        for char in word:\n",
    "            if not curr_node.has_char(char):\n",
    "                return False\n",
    "            curr_node = curr_node.next_chars[char]\n",
    "        return curr_node\n",
    "\n",
    "    def has_word(self, word: str) -> bool:\n",
    "        curr_node = self.get_prefix(word)\n",
    "        return curr_node and curr_node.ends_word\n",
    "    \n",
    "    def count_words_with_prefix(self, prefix: str) -> int:\n",
    "        prefix_node = self.get_prefix(prefix)\n",
    "        return prefix_node.count_words_prefix_dfs()"
   ]
  },
  {
   "cell_type": "code",
   "execution_count": 144,
   "metadata": {},
   "outputs": [],
   "source": [
    "dicc = Dictionary()"
   ]
  },
  {
   "cell_type": "code",
   "execution_count": 145,
   "metadata": {},
   "outputs": [],
   "source": [
    "dicc.add_word(\"rat\")\n",
    "dicc.add_word(\"rattata\")\n",
    "dicc.add_word(\"rat\")\n",
    "dicc.add_word(\"ratita\")\n",
    "dicc.add_word(\"ibai\")\n",
    "dicc.add_word(\"raton\")\n",
    "dicc.add_word(\"matrix\")\n",
    "dicc.add_word(\"matriz\")\n",
    "dicc.add_word(\"matrushka\")\n",
    "dicc.add_word(\"jorge\")\n",
    "dicc.add_word(\"jose\")\n",
    "dicc.add_word(\"jorge\")\n",
    "dicc.add_word(\"jorge\")\n",
    "dicc.add_word(\"jorgito\")\n",
    "dicc.add_word(\"jorge\")\n"
   ]
  },
  {
   "cell_type": "markdown",
   "metadata": {},
   "source": [
    "#### Testing"
   ]
  },
  {
   "cell_type": "code",
   "execution_count": 150,
   "metadata": {},
   "outputs": [],
   "source": [
    "for word in [\"rat\", \"rattata\", \"ratita\", \"ibai\", \"raton\", \"matrix\", \"matriz\", \"matrushka\", \"jorge\", \"jose\", \"jorgito\"]:\n",
    "    assert dicc.has_word(word)"
   ]
  },
  {
   "cell_type": "code",
   "execution_count": 151,
   "metadata": {},
   "outputs": [],
   "source": [
    "for word in [\"ra\", \"ratata\", \"rati\", \"iai\", \"rato\", \"matri\", \"matriy\", \"matruzhka\", \"Jorge\", \"josé\", \"lemus\"]:\n",
    "    assert not dicc.has_word(word)"
   ]
  },
  {
   "cell_type": "code",
   "execution_count": 152,
   "metadata": {},
   "outputs": [],
   "source": [
    "assert dicc.count_words_with_prefix(\"ra\") == 4"
   ]
  },
  {
   "cell_type": "code",
   "execution_count": 155,
   "metadata": {},
   "outputs": [],
   "source": [
    "assert dicc.count_words_with_prefix(\"rat\") == 4"
   ]
  },
  {
   "cell_type": "code",
   "execution_count": 157,
   "metadata": {},
   "outputs": [],
   "source": [
    "assert dicc.count_words_with_prefix(\"raton\") == 1"
   ]
  },
  {
   "cell_type": "code",
   "execution_count": null,
   "metadata": {},
   "outputs": [],
   "source": []
  }
 ],
 "metadata": {
  "kernelspec": {
   "display_name": "Python 3",
   "language": "python",
   "name": "python3"
  },
  "language_info": {
   "codemirror_mode": {
    "name": "ipython",
    "version": 3
   },
   "file_extension": ".py",
   "mimetype": "text/x-python",
   "name": "python",
   "nbconvert_exporter": "python",
   "pygments_lexer": "ipython3",
   "version": "3.7.9"
  }
 },
 "nbformat": 4,
 "nbformat_minor": 4
}
